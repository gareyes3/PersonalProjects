{
 "cells": [
  {
   "cell_type": "markdown",
   "id": "c0898440",
   "metadata": {},
   "source": [
    "# Sales Analysis"
   ]
  },
  {
   "cell_type": "markdown",
   "id": "bd08e68e",
   "metadata": {},
   "source": [
    "### Import the libraries"
   ]
  },
  {
   "cell_type": "code",
   "execution_count": 121,
   "id": "8e65ea83",
   "metadata": {},
   "outputs": [],
   "source": [
    "import os\n",
    "import pandas as pd\n",
    "import sys, os\n",
    "import matplotlib.pyplot as plt\n",
    "import seaborn as sns"
   ]
  },
  {
   "cell_type": "code",
   "execution_count": 37,
   "id": "4743e811",
   "metadata": {},
   "outputs": [
    {
     "name": "stdout",
     "output_type": "stream",
     "text": [
      "['C:\\\\Users\\\\Gustavo Reyes', 'C:\\\\Users\\\\Gustavo Reyes\\\\anaconda3\\\\python38.zip', 'C:\\\\Users\\\\Gustavo Reyes\\\\anaconda3\\\\DLLs', 'C:\\\\Users\\\\Gustavo Reyes\\\\anaconda3\\\\lib', 'C:\\\\Users\\\\Gustavo Reyes\\\\anaconda3', '', 'C:\\\\Users\\\\Gustavo Reyes\\\\anaconda3\\\\lib\\\\site-packages', 'C:\\\\Users\\\\Gustavo Reyes\\\\anaconda3\\\\lib\\\\site-packages\\\\locket-0.2.1-py3.8.egg', 'C:\\\\Users\\\\Gustavo Reyes\\\\anaconda3\\\\lib\\\\site-packages\\\\win32', 'C:\\\\Users\\\\Gustavo Reyes\\\\anaconda3\\\\lib\\\\site-packages\\\\win32\\\\lib', 'C:\\\\Users\\\\Gustavo Reyes\\\\anaconda3\\\\lib\\\\site-packages\\\\Pythonwin', 'C:\\\\Users\\\\Gustavo Reyes\\\\anaconda3\\\\lib\\\\site-packages\\\\IPython\\\\extensions', 'C:\\\\Users\\\\Gustavo Reyes\\\\.ipython', 'C:\\\\Users\\\\Gustavo Reyes\\\\Documents\\\\GitHubFiles\\\\C\\\\PersonalProjects\\\\Sales Analysis', 'C:\\\\Users\\\\Gustavo Reyes\\\\Documents\\\\GitHubFiles\\\\PersonalProjects\\\\Sales Analysis', 'C:\\\\Users\\\\Gustavo Reyes\\\\Documents\\\\GitHubFiles\\\\PersonalProjects\\\\Sales Analysis', 'C:\\\\Users\\\\Gustavo Reyes\\\\Documents\\\\GitHubFiles\\\\PersonalProjects\\\\Sales Analysis', 'C:\\\\Users\\\\Gustavo Reyes\\\\Documents\\\\GitHubFiles\\\\PersonalProjects\\\\Sales Analysis', 'C:\\\\Users\\\\Gustavo Reyes\\\\Documents\\\\GitHubFiles\\\\PersonalProjects\\\\Sales Analysis', 'C:\\\\Users\\\\Gustavo Reyes\\\\Documents\\\\GitHubFiles\\\\PersonalProjects\\\\Sales Analysis', 'C:\\\\Users\\\\Gustavo Reyes\\\\Documents\\\\GitHubFiles\\\\PersonalProjects\\\\Sales Analysis', 'C:\\\\Users\\\\Gustavo Reyes\\\\Documents\\\\GitHubFiles\\\\PersonalProjects\\\\Sales Analysis', 'C:\\\\Users\\\\Gustavo Reyes\\\\Documents\\\\GitHubFiles\\\\PersonalProjects\\\\Sales Analysis']\n",
      "C:\\Users\\Gustavo Reyes\n"
     ]
    }
   ],
   "source": [
    "print(sys.path)\n",
    "print(os.getcwd())\n",
    "sys.path.append('C:\\\\Users\\Gustavo Reyes\\Documents\\GitHubFiles\\PersonalProjects\\Sales Analysis')"
   ]
  },
  {
   "cell_type": "markdown",
   "id": "028a9546",
   "metadata": {},
   "source": [
    "#### 1. Read the Data and Merge it together"
   ]
  },
  {
   "cell_type": "code",
   "execution_count": 49,
   "id": "2d38de85",
   "metadata": {},
   "outputs": [],
   "source": [
    "files = [file for file in os.listdir(\"C:\\\\Users\\\\Gustavo Reyes\\\\Documents\\\\GitHubFiles\\\\PersonalProjects\\\\Sales Analysis\")]\n",
    "\n",
    "all_data = pd.DataFrame()\n",
    "\n",
    "for file in files:\n",
    "    df = pd.read_csv(\"C:\\\\Users\\\\Gustavo Reyes\\\\Documents\\\\GitHubFiles\\\\PersonalProjects\\\\Sales Analysis\\\\\"+file)\n",
    "    all_data = pd.concat([all_data,df])\n",
    "\n",
    "#Checking that it ran\n",
    "all_data.to_csv(\"all_data.csv\", index= False)"
   ]
  },
  {
   "cell_type": "code",
   "execution_count": null,
   "id": "e267f1ff",
   "metadata": {},
   "outputs": [],
   "source": [
    "all_data.head()"
   ]
  },
  {
   "cell_type": "markdown",
   "id": "4ef79fbd",
   "metadata": {},
   "source": [
    "##### Data Cleaning"
   ]
  },
  {
   "cell_type": "code",
   "execution_count": 75,
   "id": "f4a09bd8",
   "metadata": {},
   "outputs": [],
   "source": [
    "#Remove the NAs from the dataframes.\n",
    "all_data_c = all_data.dropna()\n",
    "\n",
    "#Clean up other value from the dataframe month column\n",
    "#delete that OR\n",
    "\n",
    "all_data_c = all_data_c[all_data_c[\"Order Date\"].str[0:2]!=\"Or\"]\n"
   ]
  },
  {
   "cell_type": "code",
   "execution_count": 83,
   "id": "f788dd66",
   "metadata": {},
   "outputs": [],
   "source": [
    "#Convert Columns to the correct type \n",
    "all_data_c[\"Quantity Ordered\"]=pd.to_numeric(all_data_c[\"Quantity Ordered\"])\n",
    "all_data_c[\"Price Each\"]=pd.to_numeric(all_data_c[\"Price Each\"])"
   ]
  },
  {
   "cell_type": "code",
   "execution_count": 76,
   "id": "5f68b65f",
   "metadata": {},
   "outputs": [
    {
     "data": {
      "text/html": [
       "<div>\n",
       "<style scoped>\n",
       "    .dataframe tbody tr th:only-of-type {\n",
       "        vertical-align: middle;\n",
       "    }\n",
       "\n",
       "    .dataframe tbody tr th {\n",
       "        vertical-align: top;\n",
       "    }\n",
       "\n",
       "    .dataframe thead th {\n",
       "        text-align: right;\n",
       "    }\n",
       "</style>\n",
       "<table border=\"1\" class=\"dataframe\">\n",
       "  <thead>\n",
       "    <tr style=\"text-align: right;\">\n",
       "      <th></th>\n",
       "      <th>Order ID</th>\n",
       "      <th>Product</th>\n",
       "      <th>Quantity Ordered</th>\n",
       "      <th>Price Each</th>\n",
       "      <th>Order Date</th>\n",
       "      <th>Purchase Address</th>\n",
       "      <th>Month</th>\n",
       "    </tr>\n",
       "  </thead>\n",
       "  <tbody>\n",
       "    <tr>\n",
       "      <th>0</th>\n",
       "      <td>176558</td>\n",
       "      <td>USB-C Charging Cable</td>\n",
       "      <td>2</td>\n",
       "      <td>11.95</td>\n",
       "      <td>04/19/19 08:46</td>\n",
       "      <td>917 1st St, Dallas, TX 75001</td>\n",
       "      <td>04</td>\n",
       "    </tr>\n",
       "    <tr>\n",
       "      <th>2</th>\n",
       "      <td>176559</td>\n",
       "      <td>Bose SoundSport Headphones</td>\n",
       "      <td>1</td>\n",
       "      <td>99.99</td>\n",
       "      <td>04/07/19 22:30</td>\n",
       "      <td>682 Chestnut St, Boston, MA 02215</td>\n",
       "      <td>04</td>\n",
       "    </tr>\n",
       "    <tr>\n",
       "      <th>3</th>\n",
       "      <td>176560</td>\n",
       "      <td>Google Phone</td>\n",
       "      <td>1</td>\n",
       "      <td>600</td>\n",
       "      <td>04/12/19 14:38</td>\n",
       "      <td>669 Spruce St, Los Angeles, CA 90001</td>\n",
       "      <td>04</td>\n",
       "    </tr>\n",
       "    <tr>\n",
       "      <th>4</th>\n",
       "      <td>176560</td>\n",
       "      <td>Wired Headphones</td>\n",
       "      <td>1</td>\n",
       "      <td>11.99</td>\n",
       "      <td>04/12/19 14:38</td>\n",
       "      <td>669 Spruce St, Los Angeles, CA 90001</td>\n",
       "      <td>04</td>\n",
       "    </tr>\n",
       "    <tr>\n",
       "      <th>5</th>\n",
       "      <td>176561</td>\n",
       "      <td>Wired Headphones</td>\n",
       "      <td>1</td>\n",
       "      <td>11.99</td>\n",
       "      <td>04/30/19 09:27</td>\n",
       "      <td>333 8th St, Los Angeles, CA 90001</td>\n",
       "      <td>04</td>\n",
       "    </tr>\n",
       "  </tbody>\n",
       "</table>\n",
       "</div>"
      ],
      "text/plain": [
       "  Order ID                     Product Quantity Ordered Price Each  \\\n",
       "0   176558        USB-C Charging Cable                2      11.95   \n",
       "2   176559  Bose SoundSport Headphones                1      99.99   \n",
       "3   176560                Google Phone                1        600   \n",
       "4   176560            Wired Headphones                1      11.99   \n",
       "5   176561            Wired Headphones                1      11.99   \n",
       "\n",
       "       Order Date                      Purchase Address Month  \n",
       "0  04/19/19 08:46          917 1st St, Dallas, TX 75001    04  \n",
       "2  04/07/19 22:30     682 Chestnut St, Boston, MA 02215    04  \n",
       "3  04/12/19 14:38  669 Spruce St, Los Angeles, CA 90001    04  \n",
       "4  04/12/19 14:38  669 Spruce St, Los Angeles, CA 90001    04  \n",
       "5  04/30/19 09:27     333 8th St, Los Angeles, CA 90001    04  "
      ]
     },
     "execution_count": 76,
     "metadata": {},
     "output_type": "execute_result"
    }
   ],
   "source": [
    "all_data_c.head()"
   ]
  },
  {
   "cell_type": "markdown",
   "id": "6dbb59ab",
   "metadata": {},
   "source": [
    "##### Augment the data with addiotoinal colums"
   ]
  },
  {
   "cell_type": "markdown",
   "id": "890efdad",
   "metadata": {},
   "source": [
    "Adding the month column"
   ]
  },
  {
   "cell_type": "code",
   "execution_count": 77,
   "id": "36794b8d",
   "metadata": {},
   "outputs": [
    {
     "data": {
      "text/plain": [
       "0        4\n",
       "2        4\n",
       "3        4\n",
       "4        4\n",
       "5        4\n",
       "        ..\n",
       "11681    9\n",
       "11682    9\n",
       "11683    9\n",
       "11684    9\n",
       "11685    9\n",
       "Name: Month, Length: 185950, dtype: int64"
      ]
     },
     "execution_count": 77,
     "metadata": {},
     "output_type": "execute_result"
    }
   ],
   "source": [
    "all_data_c[\"Month\"] = all_data_c[\"Order Date\"].str[0:2]\n",
    "all_data_c.head()\n",
    "#Changing the month column into a numeric format\n",
    "pd.to_numeric(all_data_c[\"Month\"])"
   ]
  },
  {
   "cell_type": "code",
   "execution_count": 85,
   "id": "62952390",
   "metadata": {},
   "outputs": [
    {
     "data": {
      "text/html": [
       "<div>\n",
       "<style scoped>\n",
       "    .dataframe tbody tr th:only-of-type {\n",
       "        vertical-align: middle;\n",
       "    }\n",
       "\n",
       "    .dataframe tbody tr th {\n",
       "        vertical-align: top;\n",
       "    }\n",
       "\n",
       "    .dataframe thead th {\n",
       "        text-align: right;\n",
       "    }\n",
       "</style>\n",
       "<table border=\"1\" class=\"dataframe\">\n",
       "  <thead>\n",
       "    <tr style=\"text-align: right;\">\n",
       "      <th></th>\n",
       "      <th>Order ID</th>\n",
       "      <th>Product</th>\n",
       "      <th>Quantity Ordered</th>\n",
       "      <th>Price Each</th>\n",
       "      <th>Order Date</th>\n",
       "      <th>Purchase Address</th>\n",
       "      <th>Month</th>\n",
       "      <th>Sales</th>\n",
       "    </tr>\n",
       "  </thead>\n",
       "  <tbody>\n",
       "    <tr>\n",
       "      <th>0</th>\n",
       "      <td>176558</td>\n",
       "      <td>USB-C Charging Cable</td>\n",
       "      <td>2</td>\n",
       "      <td>11.95</td>\n",
       "      <td>04/19/19 08:46</td>\n",
       "      <td>917 1st St, Dallas, TX 75001</td>\n",
       "      <td>04</td>\n",
       "      <td>23.90</td>\n",
       "    </tr>\n",
       "    <tr>\n",
       "      <th>2</th>\n",
       "      <td>176559</td>\n",
       "      <td>Bose SoundSport Headphones</td>\n",
       "      <td>1</td>\n",
       "      <td>99.99</td>\n",
       "      <td>04/07/19 22:30</td>\n",
       "      <td>682 Chestnut St, Boston, MA 02215</td>\n",
       "      <td>04</td>\n",
       "      <td>99.99</td>\n",
       "    </tr>\n",
       "    <tr>\n",
       "      <th>3</th>\n",
       "      <td>176560</td>\n",
       "      <td>Google Phone</td>\n",
       "      <td>1</td>\n",
       "      <td>600.00</td>\n",
       "      <td>04/12/19 14:38</td>\n",
       "      <td>669 Spruce St, Los Angeles, CA 90001</td>\n",
       "      <td>04</td>\n",
       "      <td>600.00</td>\n",
       "    </tr>\n",
       "    <tr>\n",
       "      <th>4</th>\n",
       "      <td>176560</td>\n",
       "      <td>Wired Headphones</td>\n",
       "      <td>1</td>\n",
       "      <td>11.99</td>\n",
       "      <td>04/12/19 14:38</td>\n",
       "      <td>669 Spruce St, Los Angeles, CA 90001</td>\n",
       "      <td>04</td>\n",
       "      <td>11.99</td>\n",
       "    </tr>\n",
       "    <tr>\n",
       "      <th>5</th>\n",
       "      <td>176561</td>\n",
       "      <td>Wired Headphones</td>\n",
       "      <td>1</td>\n",
       "      <td>11.99</td>\n",
       "      <td>04/30/19 09:27</td>\n",
       "      <td>333 8th St, Los Angeles, CA 90001</td>\n",
       "      <td>04</td>\n",
       "      <td>11.99</td>\n",
       "    </tr>\n",
       "  </tbody>\n",
       "</table>\n",
       "</div>"
      ],
      "text/plain": [
       "  Order ID                     Product  Quantity Ordered  Price Each  \\\n",
       "0   176558        USB-C Charging Cable                 2       11.95   \n",
       "2   176559  Bose SoundSport Headphones                 1       99.99   \n",
       "3   176560                Google Phone                 1      600.00   \n",
       "4   176560            Wired Headphones                 1       11.99   \n",
       "5   176561            Wired Headphones                 1       11.99   \n",
       "\n",
       "       Order Date                      Purchase Address Month   Sales  \n",
       "0  04/19/19 08:46          917 1st St, Dallas, TX 75001    04   23.90  \n",
       "2  04/07/19 22:30     682 Chestnut St, Boston, MA 02215    04   99.99  \n",
       "3  04/12/19 14:38  669 Spruce St, Los Angeles, CA 90001    04  600.00  \n",
       "4  04/12/19 14:38  669 Spruce St, Los Angeles, CA 90001    04   11.99  \n",
       "5  04/30/19 09:27     333 8th St, Los Angeles, CA 90001    04   11.99  "
      ]
     },
     "execution_count": 85,
     "metadata": {},
     "output_type": "execute_result"
    }
   ],
   "source": [
    "#Get total sales per order by mult Ordered by Price Each\n",
    "all_data_c[\"Sales\"] = all_data_c[\"Quantity Ordered\"] *all_data_c[\"Price Each\"]\n",
    "all_data_c.head()"
   ]
  },
  {
   "cell_type": "code",
   "execution_count": null,
   "id": "7b1b20ff",
   "metadata": {},
   "outputs": [],
   "source": []
  },
  {
   "cell_type": "code",
   "execution_count": null,
   "id": "d789c791",
   "metadata": {},
   "outputs": [],
   "source": []
  },
  {
   "cell_type": "markdown",
   "id": "aba76f66",
   "metadata": {},
   "source": [
    "#### Question 1: What was the best month for sales, and how much was earned each month?"
   ]
  },
  {
   "cell_type": "code",
   "execution_count": 91,
   "id": "43b50b47",
   "metadata": {},
   "outputs": [
    {
     "data": {
      "text/html": [
       "<div>\n",
       "<style scoped>\n",
       "    .dataframe tbody tr th:only-of-type {\n",
       "        vertical-align: middle;\n",
       "    }\n",
       "\n",
       "    .dataframe tbody tr th {\n",
       "        vertical-align: top;\n",
       "    }\n",
       "\n",
       "    .dataframe thead th {\n",
       "        text-align: right;\n",
       "    }\n",
       "</style>\n",
       "<table border=\"1\" class=\"dataframe\">\n",
       "  <thead>\n",
       "    <tr style=\"text-align: right;\">\n",
       "      <th></th>\n",
       "      <th>Quantity Ordered</th>\n",
       "      <th>Price Each</th>\n",
       "      <th>Sales</th>\n",
       "    </tr>\n",
       "    <tr>\n",
       "      <th>Month</th>\n",
       "      <th></th>\n",
       "      <th></th>\n",
       "      <th></th>\n",
       "    </tr>\n",
       "  </thead>\n",
       "  <tbody>\n",
       "    <tr>\n",
       "      <th>01</th>\n",
       "      <td>10903</td>\n",
       "      <td>1811768.38</td>\n",
       "      <td>1822256.73</td>\n",
       "    </tr>\n",
       "    <tr>\n",
       "      <th>02</th>\n",
       "      <td>13449</td>\n",
       "      <td>2188884.72</td>\n",
       "      <td>2202022.42</td>\n",
       "    </tr>\n",
       "    <tr>\n",
       "      <th>03</th>\n",
       "      <td>17005</td>\n",
       "      <td>2791207.83</td>\n",
       "      <td>2807100.38</td>\n",
       "    </tr>\n",
       "    <tr>\n",
       "      <th>04</th>\n",
       "      <td>20558</td>\n",
       "      <td>3367671.02</td>\n",
       "      <td>3390670.24</td>\n",
       "    </tr>\n",
       "    <tr>\n",
       "      <th>05</th>\n",
       "      <td>18667</td>\n",
       "      <td>3135125.13</td>\n",
       "      <td>3152606.75</td>\n",
       "    </tr>\n",
       "  </tbody>\n",
       "</table>\n",
       "</div>"
      ],
      "text/plain": [
       "       Quantity Ordered  Price Each       Sales\n",
       "Month                                          \n",
       "01                10903  1811768.38  1822256.73\n",
       "02                13449  2188884.72  2202022.42\n",
       "03                17005  2791207.83  2807100.38\n",
       "04                20558  3367671.02  3390670.24\n",
       "05                18667  3135125.13  3152606.75"
      ]
     },
     "execution_count": 91,
     "metadata": {},
     "output_type": "execute_result"
    }
   ],
   "source": [
    "Top_months = all_data_c.groupby(\"Month\").sum()\n",
    "Top_months.head()\n",
    "#December was the best month for sales."
   ]
  },
  {
   "cell_type": "code",
   "execution_count": null,
   "id": "96a19603",
   "metadata": {},
   "outputs": [],
   "source": []
  },
  {
   "cell_type": "code",
   "execution_count": 101,
   "id": "8243ee80",
   "metadata": {},
   "outputs": [
    {
     "data": {
      "image/png": "[encoded data removed]",
      "text/plain": [
       "<Figure size 640x480 with 1 Axes>"
      ]
     },
     "metadata": {},
     "output_type": "display_data"
    }
   ],
   "source": [
    "#Plot the result\n",
    "months=range(1,13)\n",
    "plt.bar(months, Top_months[\"Sales\"])\n",
    "plt.xticks(months)\n",
    "plt.ylabel(\"Sales in USD\")\n",
    "plt.xlabel(\"Month Number\")\n",
    "plt.show()\n"
   ]
  },
  {
   "cell_type": "markdown",
   "id": "210c3580",
   "metadata": {},
   "source": [
    "#### US City with the higher number of sales"
   ]
  },
  {
   "cell_type": "code",
   "execution_count": 113,
   "id": "3168468b",
   "metadata": {},
   "outputs": [
    {
     "data": {
      "text/html": [
       "<div>\n",
       "<style scoped>\n",
       "    .dataframe tbody tr th:only-of-type {\n",
       "        vertical-align: middle;\n",
       "    }\n",
       "\n",
       "    .dataframe tbody tr th {\n",
       "        vertical-align: top;\n",
       "    }\n",
       "\n",
       "    .dataframe thead th {\n",
       "        text-align: right;\n",
       "    }\n",
       "</style>\n",
       "<table border=\"1\" class=\"dataframe\">\n",
       "  <thead>\n",
       "    <tr style=\"text-align: right;\">\n",
       "      <th></th>\n",
       "      <th>Order ID</th>\n",
       "      <th>Product</th>\n",
       "      <th>Quantity Ordered</th>\n",
       "      <th>Price Each</th>\n",
       "      <th>Order Date</th>\n",
       "      <th>Purchase Address</th>\n",
       "      <th>Month</th>\n",
       "      <th>Sales</th>\n",
       "      <th>Cities</th>\n",
       "    </tr>\n",
       "  </thead>\n",
       "  <tbody>\n",
       "    <tr>\n",
       "      <th>0</th>\n",
       "      <td>176558</td>\n",
       "      <td>USB-C Charging Cable</td>\n",
       "      <td>2</td>\n",
       "      <td>11.95</td>\n",
       "      <td>04/19/19 08:46</td>\n",
       "      <td>917 1st St, Dallas, TX 75001</td>\n",
       "      <td>04</td>\n",
       "      <td>23.90</td>\n",
       "      <td>Dallas</td>\n",
       "    </tr>\n",
       "    <tr>\n",
       "      <th>2</th>\n",
       "      <td>176559</td>\n",
       "      <td>Bose SoundSport Headphones</td>\n",
       "      <td>1</td>\n",
       "      <td>99.99</td>\n",
       "      <td>04/07/19 22:30</td>\n",
       "      <td>682 Chestnut St, Boston, MA 02215</td>\n",
       "      <td>04</td>\n",
       "      <td>99.99</td>\n",
       "      <td>Boston</td>\n",
       "    </tr>\n",
       "    <tr>\n",
       "      <th>3</th>\n",
       "      <td>176560</td>\n",
       "      <td>Google Phone</td>\n",
       "      <td>1</td>\n",
       "      <td>600.00</td>\n",
       "      <td>04/12/19 14:38</td>\n",
       "      <td>669 Spruce St, Los Angeles, CA 90001</td>\n",
       "      <td>04</td>\n",
       "      <td>600.00</td>\n",
       "      <td>Los Angeles</td>\n",
       "    </tr>\n",
       "    <tr>\n",
       "      <th>4</th>\n",
       "      <td>176560</td>\n",
       "      <td>Wired Headphones</td>\n",
       "      <td>1</td>\n",
       "      <td>11.99</td>\n",
       "      <td>04/12/19 14:38</td>\n",
       "      <td>669 Spruce St, Los Angeles, CA 90001</td>\n",
       "      <td>04</td>\n",
       "      <td>11.99</td>\n",
       "      <td>Los Angeles</td>\n",
       "    </tr>\n",
       "    <tr>\n",
       "      <th>5</th>\n",
       "      <td>176561</td>\n",
       "      <td>Wired Headphones</td>\n",
       "      <td>1</td>\n",
       "      <td>11.99</td>\n",
       "      <td>04/30/19 09:27</td>\n",
       "      <td>333 8th St, Los Angeles, CA 90001</td>\n",
       "      <td>04</td>\n",
       "      <td>11.99</td>\n",
       "      <td>Los Angeles</td>\n",
       "    </tr>\n",
       "  </tbody>\n",
       "</table>\n",
       "</div>"
      ],
      "text/plain": [
       "  Order ID                     Product  Quantity Ordered  Price Each  \\\n",
       "0   176558        USB-C Charging Cable                 2       11.95   \n",
       "2   176559  Bose SoundSport Headphones                 1       99.99   \n",
       "3   176560                Google Phone                 1      600.00   \n",
       "4   176560            Wired Headphones                 1       11.99   \n",
       "5   176561            Wired Headphones                 1       11.99   \n",
       "\n",
       "       Order Date                      Purchase Address Month   Sales  \\\n",
       "0  04/19/19 08:46          917 1st St, Dallas, TX 75001    04   23.90   \n",
       "2  04/07/19 22:30     682 Chestnut St, Boston, MA 02215    04   99.99   \n",
       "3  04/12/19 14:38  669 Spruce St, Los Angeles, CA 90001    04  600.00   \n",
       "4  04/12/19 14:38  669 Spruce St, Los Angeles, CA 90001    04   11.99   \n",
       "5  04/30/19 09:27     333 8th St, Los Angeles, CA 90001    04   11.99   \n",
       "\n",
       "         Cities  \n",
       "0        Dallas  \n",
       "2        Boston  \n",
       "3   Los Angeles  \n",
       "4   Los Angeles  \n",
       "5   Los Angeles  "
      ]
     },
     "execution_count": 113,
     "metadata": {},
     "output_type": "execute_result"
    }
   ],
   "source": [
    "import re\n",
    "CitiesList= all_data_c[\"Purchase Address\"]\n",
    "CitiesList\n",
    "#Pulling out the cities from the address\n",
    "purecities = []\n",
    "for city in CitiesList:\n",
    "    result = city.split(',')\n",
    "    resultc = result[1]\n",
    "    purecities.append(resultc)\n",
    "\n",
    "#Adding Cities as a column\n",
    "all_data_c[\"Cities\"] = purecities\n",
    "all_data_c.head()"
   ]
  },
  {
   "cell_type": "code",
   "execution_count": 145,
   "id": "943f3efc",
   "metadata": {},
   "outputs": [
    {
     "data": {
      "image/png": "[encoded data removed]",
      "text/plain": [
       "<Figure size 640x480 with 1 Axes>"
      ]
     },
     "metadata": {},
     "output_type": "display_data"
    }
   ],
   "source": [
    "#top Selling Cities: \n",
    "Top_Cities= all_data_c.groupby(\"Cities\",as_index=False).sum()\n",
    "Top_Cities.head(20)\n",
    "\n",
    "#print(Top_Cities.columns)\n",
    "\n",
    "f, ax = plt.subplots()\n",
    "ax.ticklabel_format(style='plain', axis='both')\n",
    "sns.barplot(data = Top_Cities , x=\"Sales\",y=\"Cities\", ax=ax,)\n",
    "plt.show()\n"
   ]
  },
  {
   "cell_type": "code",
   "execution_count": null,
   "id": "e16c30ce",
   "metadata": {},
   "outputs": [],
   "source": []
  },
  {
   "cell_type": "code",
   "execution_count": null,
   "id": "25824c93",
   "metadata": {},
   "outputs": [],
   "source": []
  },
  {
   "cell_type": "code",
   "execution_count": null,
   "id": "ea1783df",
   "metadata": {},
   "outputs": [],
   "source": []
  },
  {
   "cell_type": "code",
   "execution_count": null,
   "id": "c83de81d",
   "metadata": {},
   "outputs": [],
   "source": []
  }
 ],
 "metadata": {
  "kernelspec": {
   "display_name": "Python 3",
   "language": "python",
   "name": "python3"
  },
  "language_info": {
   "codemirror_mode": {
    "name": "ipython",
    "version": 3
   },
   "file_extension": ".py",
   "mimetype": "text/x-python",
   "name": "python",
   "nbconvert_exporter": "python",
   "pygments_lexer": "ipython3",
   "version": "3.8.8"
  }
 },
 "nbformat": 4,
 "nbformat_minor": 5
}
